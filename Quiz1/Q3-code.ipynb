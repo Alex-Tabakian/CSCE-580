{
 "cells": [
  {
   "cell_type": "code",
   "execution_count": null,
   "id": "99c8c65e",
   "metadata": {},
   "outputs": [
    {
     "name": "stdout",
     "output_type": "stream",
     "text": [
      "Missing data % by column:\n",
      " XREF ID                   0.000000\n",
      "DISPATCH UNIT             0.000000\n",
      "DISPATCH CREATED DATE     0.000000\n",
      "INCIDENT NUMBER           0.000000\n",
      "1ST UNIT ON SCENE        19.454545\n",
      "ALARM DATE TIME           1.409091\n",
      "CALL COMPLETE             1.409091\n",
      "SHIFT                     3.136364\n",
      "dtype: float64\n",
      "Average resolution time: 125722.06 minutes\n",
      "Average number of fire units per alarm: 1.48\n"
     ]
    },
    {
     "name": "stderr",
     "output_type": "stream",
     "text": [
      "C:\\Users\\ataba\\AppData\\Local\\Temp\\ipykernel_30068\\792216643.py:21: UserWarning: Could not infer format, so each element will be parsed individually, falling back to `dateutil`. To ensure parsing is consistent and as-expected, please specify a format.\n",
      "  df_clean[\"ALARM DATE TIME\"] = pd.to_datetime(df_clean[\"ALARM DATE TIME\"], errors=\"coerce\")\n",
      "C:\\Users\\ataba\\AppData\\Local\\Temp\\ipykernel_30068\\792216643.py:21: SettingWithCopyWarning: \n",
      "A value is trying to be set on a copy of a slice from a DataFrame.\n",
      "Try using .loc[row_indexer,col_indexer] = value instead\n",
      "\n",
      "See the caveats in the documentation: https://pandas.pydata.org/pandas-docs/stable/user_guide/indexing.html#returning-a-view-versus-a-copy\n",
      "  df_clean[\"ALARM DATE TIME\"] = pd.to_datetime(df_clean[\"ALARM DATE TIME\"], errors=\"coerce\")\n",
      "C:\\Users\\ataba\\AppData\\Local\\Temp\\ipykernel_30068\\792216643.py:22: UserWarning: Could not infer format, so each element will be parsed individually, falling back to `dateutil`. To ensure parsing is consistent and as-expected, please specify a format.\n",
      "  df_clean[\"CALL COMPLETE\"] = pd.to_datetime(df_clean[\"CALL COMPLETE\"], errors=\"coerce\")\n",
      "C:\\Users\\ataba\\AppData\\Local\\Temp\\ipykernel_30068\\792216643.py:22: SettingWithCopyWarning: \n",
      "A value is trying to be set on a copy of a slice from a DataFrame.\n",
      "Try using .loc[row_indexer,col_indexer] = value instead\n",
      "\n",
      "See the caveats in the documentation: https://pandas.pydata.org/pandas-docs/stable/user_guide/indexing.html#returning-a-view-versus-a-copy\n",
      "  df_clean[\"CALL COMPLETE\"] = pd.to_datetime(df_clean[\"CALL COMPLETE\"], errors=\"coerce\")\n"
     ]
    }
   ],
   "source": [
    "import pandas as pd\n",
    "import numpy as np\n",
    "import os\n",
    "\n",
    "path = os.path.join(os.getcwd(), r\"Redacted-Department _ CAD Reconciliation.csv\")\n",
    "\n",
    "df = pd.read_csv(path)\n",
    "\n",
    "# a1. Data range\n",
    "#print(\"Earliest dispatch:\", df['Dispatch_Date'].min())\n",
    "#print(\"Latest dispatch:\", df['Dispatch_Date'].max())\n",
    "# a2. % of missing data\n",
    "missing_percent = df.isna().mean() * 100\n",
    "print(\"Missing data % by column:\\n\", missing_percent)\n",
    "# a3.\n",
    "\n",
    "# a4.\n",
    "df_clean = df.dropna()\n",
    "\n",
    "# b.1\n",
    "df_clean[\"ALARM DATE TIME\"] = pd.to_datetime(df_clean[\"ALARM DATE TIME\"], errors=\"coerce\")\n",
    "df_clean[\"CALL COMPLETE\"] = pd.to_datetime(df_clean[\"CALL COMPLETE\"], errors=\"coerce\")\n",
    "\n",
    "df_clean = df_clean.dropna(subset=[\"ALARM DATE TIME\", \"CALL COMPLETE\"])\n",
    "\n",
    "df_clean[\"Resolution_Time\"] = (df_clean[\"CALL COMPLETE\"] - df_clean[\"ALARM DATE TIME\"]).dt.total_seconds() / 60\n",
    "\n",
    "avg_resolution = df_clean[\"Resolution_Time\"].mean()\n",
    "print(f\"Average resolution time: {avg_resolution:.2f} minutes\")\n",
    "\n",
    "# b.2\n",
    "df_clean[\"Num_Units\"] = df_clean[\"DISPATCH UNIT\"].apply(lambda x: len(str(x).split(\",\")))\n",
    "avg_units = df_clean[\"Num_Units\"].mean()\n",
    "print(f\"Average number of fire units per alarm: {avg_units:.2f}\")\n",
    "\n",
    "# b.3\n",
    "shift_counts = df_clean[\"SHIFT\"].value_counts()\n",
    "print(\"Number of alarms per shift:\\n\", shift_counts)\n",
    "\n",
    "busiest_shift = shift_counts.idxmax()\n",
    "print(f\"\\nThe busiest shift is: {busiest_shift}\")\n",
    "\n",
    "# b.4"
   ]
  }
 ],
 "metadata": {
  "kernelspec": {
   "display_name": "Python 3",
   "language": "python",
   "name": "python3"
  },
  "language_info": {
   "codemirror_mode": {
    "name": "ipython",
    "version": 3
   },
   "file_extension": ".py",
   "mimetype": "text/x-python",
   "name": "python",
   "nbconvert_exporter": "python",
   "pygments_lexer": "ipython3",
   "version": "3.12.10"
  }
 },
 "nbformat": 4,
 "nbformat_minor": 5
}
