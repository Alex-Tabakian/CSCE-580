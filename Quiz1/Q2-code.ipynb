{
 "cells": [
  {
   "cell_type": "code",
   "execution_count": null,
   "id": "3d3c8cd3",
   "metadata": {},
   "outputs": [
    {
     "ename": "SyntaxError",
     "evalue": "unterminated string literal (detected at line 68) (460642588.py, line 68)",
     "output_type": "error",
     "traceback": [
      "  \u001b[36mCell\u001b[39m\u001b[36m \u001b[39m\u001b[32mIn[57]\u001b[39m\u001b[32m, line 68\u001b[39m\n\u001b[31m    \u001b[39m\u001b[31mall_resume_words.exn my class\")\u001b[39m\n                                 ^\n\u001b[31mSyntaxError\u001b[39m\u001b[31m:\u001b[39m unterminated string literal (detected at line 68)\n"
     ]
    }
   ],
   "source": [
    "import fitz\n",
    "import os\n",
    "import re\n",
    "from collections import Counter\n",
    "import matplotlib.pyplot as plt\n",
    "\n",
    "# Saves filepath of resume PDF\n",
    "\n",
    "def plot_top_words(words_list, title=\"Top 20 Words\", xlable = \"words\", ylable=\"count\"):\n",
    "\n",
    "    # Count word frequencies\n",
    "    word_counts = {}\n",
    "    for word in words_list:\n",
    "        if word in word_counts:\n",
    "            word_counts[word] += 1\n",
    "        else:\n",
    "            word_counts[word] = 1\n",
    "\n",
    "    # Sort and get top 20\n",
    "    top20 = sorted(word_counts.items(), key=lambda x: x[1], reverse=True)[:20]\n",
    "\n",
    "    # Separate words and counts\n",
    "    words = [w for w, _ in top20]\n",
    "    counts = [c for _, c in top20]\n",
    "\n",
    "    # Plot\n",
    "    plt.figure(figsize=(12,6))\n",
    "    plt.bar(words, counts, color='skyblue')\n",
    "    plt.title(title)\n",
    "    plt.xlabel(xlable)\n",
    "    plt.ylabel(ylable)\n",
    "    plt.xticks(rotation=45)\n",
    "    plt.show()\n",
    "\n",
    "# Removes stop words from a list of words\n",
    "def remove_stop_words(word_list, stop_words):\n",
    "    filtered_words = [w for w in word_list if w.lower() not in stop_words]   \n",
    "    return filtered_words\n",
    "\n",
    "# Opens PDF file and saves words to an array\n",
    "doc = fitz.open(os.path.join(os.getcwd(), r\"Resumes\\James Tabakian Resume 2025 (1) (1).pdf\"))\n",
    "text = \"\"\n",
    "for page in doc:\n",
    "   text+=page.get_text()\n",
    "\n",
    "resume_words = re.findall(r'\\b[a-zA-Z]+\\b', text.lower())\n",
    "\n",
    "# Adds stop words from raw file to list of stop words\n",
    "with open(os.path.join(os.getcwd(), r\"NLTK's list of english stopwords\"), \"r\", encoding=\"utf-8\") as f:\n",
    "    stop_words = f.read().splitlines()\n",
    "specific_words = remove_stop_words(resume_words,stop_words)\n",
    "\n",
    "plot_top_words(resume_words,\"Top 20 words in my resume\")\n",
    "plot_top_words(specific_words,\"Top 20 words in my resume (- stop words)\")\n",
    "\n",
    "all_resume_words = []\n",
    "for file in os.listdir(os.path.join(os.getcwd(), r\"Resumes\")):\n",
    "    \n",
    "    file_path = os.path.join(os.path.join(os.getcwd(), r\"Resumes\"), file)\n",
    "    doc = fitz.open(file_path)\n",
    "    text = \"\"\n",
    "    for page in doc:\n",
    "        text += page.get_text()\n",
    "    doc.close()\n",
    "\n",
    "    # tokenize words (letters only, lowercase)\n",
    "    words = re.findall(r'\\b[a-zA-Z]+\\b', text.lower())\n",
    "    all_resume_words.extend(words)\n",
    "\n",
    "plot_top_words(all_resume_words, \"Top 20 words in my class\")\n",
    "all_spesific_words = remove_stop_words(all_resume_words,stop_words)\n",
    "\n",
    "plot_top_words(all_spesific_words, \"Top 20 words in my class (- stop words)\")"
   ]
  }
 ],
 "metadata": {
  "kernelspec": {
   "display_name": "Python 3",
   "language": "python",
   "name": "python3"
  },
  "language_info": {
   "codemirror_mode": {
    "name": "ipython",
    "version": 3
   },
   "file_extension": ".py",
   "mimetype": "text/x-python",
   "name": "python",
   "nbconvert_exporter": "python",
   "pygments_lexer": "ipython3",
   "version": "3.12.10"
  }
 },
 "nbformat": 4,
 "nbformat_minor": 5
}
